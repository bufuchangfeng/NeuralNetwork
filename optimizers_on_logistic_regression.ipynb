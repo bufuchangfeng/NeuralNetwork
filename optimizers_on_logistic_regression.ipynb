{
 "cells": [
  {
   "cell_type": "code",
   "execution_count": 1,
   "metadata": {},
   "outputs": [],
   "source": [
    "import cupy as cp\n",
    "from dataset import load_mnist\n",
    "from sklearn.model_selection import train_test_split\n",
    "\n",
    "cp.cuda.Device(0).use()"
   ]
  },
  {
   "cell_type": "code",
   "execution_count": 2,
   "metadata": {},
   "outputs": [],
   "source": [
    "train_data, train_label, test_data, test_label = load_mnist()\n",
    "train_data, valid_data, train_label, valid_label = train_test_split(train_data, train_label, test_size=0.2)"
   ]
  },
  {
   "cell_type": "code",
   "execution_count": 3,
   "metadata": {},
   "outputs": [],
   "source": [
    "train_data = cp.asarray(train_data)\n",
    "test_data = cp.asarray(test_data)\n",
    "valid_data = cp.asarray(valid_data)\n",
    "train_label = cp.asarray(train_label)\n",
    "test_label = cp.asarray(test_label)\n",
    "valid_label = cp.asarray(valid_label)"
   ]
  },
  {
   "cell_type": "code",
   "execution_count": 17,
   "metadata": {},
   "outputs": [],
   "source": [
    "def label_to_one_hot(y, n_class):\n",
    "    one_hot = cp.zeros((y.shape[0], n_class))\n",
    "    for i in range(len(y)):\n",
    "        one_hot[i][y[i]] = 1\n",
    "    \n",
    "    return one_hot\n",
    "\n",
    "    \n",
    "def softmax_with_loss(out, y):\n",
    "    max_val = cp.max(out, axis=1).reshape(-1, 1)\n",
    "    exp_out = cp.exp(out - max_val)\n",
    "    sum_exp_out = cp.sum(exp_out, axis=1).reshape(-1, 1)\n",
    "    out = exp_out / sum_exp_out\n",
    "    \n",
    "    log_out = cp.log(out + 1e-7)\n",
    "\n",
    "    loss = cp.sum(-log_out * y)\n",
    "    \n",
    "    return loss, out\n",
    "\n",
    "\n",
    "class LogisticRegression(object):\n",
    "    def __init__(self):\n",
    "        self.params = {}\n",
    "        self.params['W'] = cp.random.randn(784, 10)\n",
    "        \n",
    "        self.params['b'] = cp.random.randn(10)\n",
    "        \n",
    "        self.grads = {}\n",
    "    \n",
    "    def forward(self, x, y):\n",
    "        \n",
    "        y = label_to_one_hot(y, 10)\n",
    "        \n",
    "        self.x = x\n",
    "\n",
    "        out = cp.dot(x, self.params['W']) + self.params['b']\n",
    "    \n",
    "        loss, out = softmax_with_loss(out, y)\n",
    "        \n",
    "        self.loss_grad = out / batch_size\n",
    "        \n",
    "        return loss / x.shape[0]\n",
    "        \n",
    "    def backward(self):\n",
    "        self.grads['W'] = cp.dot(self.x.T, self.loss_grad)\n",
    "        self.grads['b'] = cp.sum(self.loss_grad, axis=0)"
   ]
  },
  {
   "cell_type": "code",
   "execution_count": 18,
   "metadata": {},
   "outputs": [],
   "source": [
    "batch_size = 3\n",
    "batch_train_count = int(train_data.shape[0] / batch_size)\n",
    "batch_train_inputs, batch_train_targets = [], []\n",
    "for i in range(batch_train_count):\n",
    "    batch_train_inputs.append(train_data[i*batch_size : (i+1)*batch_size])\n",
    "    batch_train_targets.append(train_label[i*batch_size : (i+1)*batch_size])"
   ]
  },
  {
   "cell_type": "code",
   "execution_count": 19,
   "metadata": {},
   "outputs": [],
   "source": [
    "model = LogisticRegression()"
   ]
  },
  {
   "cell_type": "code",
   "execution_count": 20,
   "metadata": {},
   "outputs": [
    {
     "name": "stdout",
     "output_type": "stream",
     "text": [
      "loss 16.11809565095832\n",
      "loss 16.11809565095832\n",
      "loss 16.11809565095832\n",
      "loss 16.11809565095832\n",
      "loss 16.11809565095832\n",
      "loss 10.745397067305548\n",
      "loss 16.11809565095832\n",
      "loss 10.745403909985077\n",
      "loss 16.11809565095832\n",
      "loss 16.11809565095832\n",
      "loss 16.11809565095832\n",
      "loss 16.11809565095832\n",
      "loss 16.11809565095832\n",
      "loss 10.745397067305548\n",
      "loss 16.11809565095832\n",
      "loss 16.11809565095832\n",
      "loss 16.11809565095832\n",
      "loss 16.11809565095832\n",
      "loss 16.11809565095832\n",
      "loss 16.11809565095832\n",
      "loss 16.11809565095832\n",
      "loss 16.11809565095832\n",
      "loss 16.11809565095832\n",
      "loss 16.11809565095832\n",
      "loss 10.745397067305548\n",
      "loss 16.11809565095832\n",
      "loss 16.11809565095832\n",
      "loss 16.11809565095832\n",
      "loss 16.11809565095832\n"
     ]
    },
    {
     "ename": "KeyboardInterrupt",
     "evalue": "",
     "output_type": "error",
     "traceback": [
      "\u001b[1;31m---------------------------------------------------------------------------\u001b[0m",
      "\u001b[1;31mKeyboardInterrupt\u001b[0m                         Traceback (most recent call last)",
      "\u001b[1;32m<ipython-input-20-6f47809c578d>\u001b[0m in \u001b[0;36m<module>\u001b[1;34m\u001b[0m\n\u001b[0;32m      6\u001b[0m         \u001b[0mtargets\u001b[0m \u001b[1;33m=\u001b[0m \u001b[0mcp\u001b[0m\u001b[1;33m.\u001b[0m\u001b[0marray\u001b[0m\u001b[1;33m(\u001b[0m\u001b[0mbatch_train_targets\u001b[0m\u001b[1;33m[\u001b[0m\u001b[0mj\u001b[0m\u001b[1;33m]\u001b[0m\u001b[1;33m)\u001b[0m\u001b[1;33m\u001b[0m\u001b[1;33m\u001b[0m\u001b[0m\n\u001b[0;32m      7\u001b[0m \u001b[1;33m\u001b[0m\u001b[0m\n\u001b[1;32m----> 8\u001b[1;33m         \u001b[0mloss\u001b[0m \u001b[1;33m=\u001b[0m \u001b[0mmodel\u001b[0m\u001b[1;33m.\u001b[0m\u001b[0mforward\u001b[0m\u001b[1;33m(\u001b[0m\u001b[0minputs\u001b[0m\u001b[1;33m,\u001b[0m \u001b[0mtargets\u001b[0m\u001b[1;33m)\u001b[0m\u001b[1;33m\u001b[0m\u001b[1;33m\u001b[0m\u001b[0m\n\u001b[0m\u001b[0;32m      9\u001b[0m \u001b[1;33m\u001b[0m\u001b[0m\n\u001b[0;32m     10\u001b[0m         \u001b[1;32mif\u001b[0m \u001b[0mj\u001b[0m \u001b[1;33m%\u001b[0m \u001b[1;36m500\u001b[0m \u001b[1;33m==\u001b[0m \u001b[1;36m0\u001b[0m\u001b[1;33m:\u001b[0m\u001b[1;33m\u001b[0m\u001b[1;33m\u001b[0m\u001b[0m\n",
      "\u001b[1;32m<ipython-input-17-7a741ccdbef9>\u001b[0m in \u001b[0;36mforward\u001b[1;34m(self, x, y)\u001b[0m\n\u001b[0;32m     31\u001b[0m     \u001b[1;32mdef\u001b[0m \u001b[0mforward\u001b[0m\u001b[1;33m(\u001b[0m\u001b[0mself\u001b[0m\u001b[1;33m,\u001b[0m \u001b[0mx\u001b[0m\u001b[1;33m,\u001b[0m \u001b[0my\u001b[0m\u001b[1;33m)\u001b[0m\u001b[1;33m:\u001b[0m\u001b[1;33m\u001b[0m\u001b[1;33m\u001b[0m\u001b[0m\n\u001b[0;32m     32\u001b[0m \u001b[1;33m\u001b[0m\u001b[0m\n\u001b[1;32m---> 33\u001b[1;33m         \u001b[0my\u001b[0m \u001b[1;33m=\u001b[0m \u001b[0mlabel_to_one_hot\u001b[0m\u001b[1;33m(\u001b[0m\u001b[0my\u001b[0m\u001b[1;33m,\u001b[0m \u001b[1;36m10\u001b[0m\u001b[1;33m)\u001b[0m\u001b[1;33m\u001b[0m\u001b[1;33m\u001b[0m\u001b[0m\n\u001b[0m\u001b[0;32m     34\u001b[0m \u001b[1;33m\u001b[0m\u001b[0m\n\u001b[0;32m     35\u001b[0m         \u001b[0mself\u001b[0m\u001b[1;33m.\u001b[0m\u001b[0mx\u001b[0m \u001b[1;33m=\u001b[0m \u001b[0mx\u001b[0m\u001b[1;33m\u001b[0m\u001b[1;33m\u001b[0m\u001b[0m\n",
      "\u001b[1;32m<ipython-input-17-7a741ccdbef9>\u001b[0m in \u001b[0;36mlabel_to_one_hot\u001b[1;34m(y, n_class)\u001b[0m\n\u001b[0;32m      2\u001b[0m     \u001b[0mone_hot\u001b[0m \u001b[1;33m=\u001b[0m \u001b[0mcp\u001b[0m\u001b[1;33m.\u001b[0m\u001b[0mzeros\u001b[0m\u001b[1;33m(\u001b[0m\u001b[1;33m(\u001b[0m\u001b[0my\u001b[0m\u001b[1;33m.\u001b[0m\u001b[0mshape\u001b[0m\u001b[1;33m[\u001b[0m\u001b[1;36m0\u001b[0m\u001b[1;33m]\u001b[0m\u001b[1;33m,\u001b[0m \u001b[0mn_class\u001b[0m\u001b[1;33m)\u001b[0m\u001b[1;33m)\u001b[0m\u001b[1;33m\u001b[0m\u001b[1;33m\u001b[0m\u001b[0m\n\u001b[0;32m      3\u001b[0m     \u001b[1;32mfor\u001b[0m \u001b[0mi\u001b[0m \u001b[1;32min\u001b[0m \u001b[0mrange\u001b[0m\u001b[1;33m(\u001b[0m\u001b[0mlen\u001b[0m\u001b[1;33m(\u001b[0m\u001b[0my\u001b[0m\u001b[1;33m)\u001b[0m\u001b[1;33m)\u001b[0m\u001b[1;33m:\u001b[0m\u001b[1;33m\u001b[0m\u001b[1;33m\u001b[0m\u001b[0m\n\u001b[1;32m----> 4\u001b[1;33m         \u001b[0mone_hot\u001b[0m\u001b[1;33m[\u001b[0m\u001b[0mi\u001b[0m\u001b[1;33m]\u001b[0m\u001b[1;33m[\u001b[0m\u001b[0my\u001b[0m\u001b[1;33m[\u001b[0m\u001b[0mi\u001b[0m\u001b[1;33m]\u001b[0m\u001b[1;33m]\u001b[0m \u001b[1;33m=\u001b[0m \u001b[1;36m1\u001b[0m\u001b[1;33m\u001b[0m\u001b[1;33m\u001b[0m\u001b[0m\n\u001b[0m\u001b[0;32m      5\u001b[0m \u001b[1;33m\u001b[0m\u001b[0m\n\u001b[0;32m      6\u001b[0m     \u001b[1;32mreturn\u001b[0m \u001b[0mone_hot\u001b[0m\u001b[1;33m\u001b[0m\u001b[1;33m\u001b[0m\u001b[0m\n",
      "\u001b[1;31mKeyboardInterrupt\u001b[0m: "
     ]
    }
   ],
   "source": [
    "epoch = 10\n",
    "learning_rate = 5e-3\n",
    "for i in range(epoch):\n",
    "    for j in range(batch_train_count):\n",
    "        inputs = cp.array(batch_train_inputs[j])\n",
    "        targets = cp.array(batch_train_targets[j])\n",
    "        \n",
    "        loss = model.forward(inputs, targets)\n",
    "        \n",
    "        if j % 500 == 0:\n",
    "            print('loss', loss)\n",
    "        \n",
    "        model.backward()\n",
    "        \n",
    "        for key in model.params.keys():\n",
    "            print(model.grads[key])\n",
    "            model.params[key] -= learning_rate * model.grads[key]"
   ]
  },
  {
   "cell_type": "code",
   "execution_count": null,
   "metadata": {},
   "outputs": [],
   "source": []
  }
 ],
 "metadata": {
  "kernelspec": {
   "display_name": "Python 3",
   "language": "python",
   "name": "python3"
  },
  "language_info": {
   "codemirror_mode": {
    "name": "ipython",
    "version": 3
   },
   "file_extension": ".py",
   "mimetype": "text/x-python",
   "name": "python",
   "nbconvert_exporter": "python",
   "pygments_lexer": "ipython3",
   "version": "3.7.5"
  }
 },
 "nbformat": 4,
 "nbformat_minor": 4
}
